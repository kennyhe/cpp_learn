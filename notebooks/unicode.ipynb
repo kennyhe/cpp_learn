{
 "cells": [
  {
   "cell_type": "code",
   "execution_count": 14,
   "metadata": {},
   "outputs": [
    {
     "name": "stdout",
     "output_type": "stream",
     "text": [
      "abc\n"
     ]
    }
   ],
   "source": [
    "#include <locale>\n",
    "#include <iostream>\n",
    "\n",
    "using namespace std;\n",
    "locale::global(locale(\"\"));\n",
    "std::wcout.imbue(std::locale());\n",
    "wcout << L\"abc\" << endl;\n",
    "cout << \"abc\" << endl;"
   ]
  },
  {
   "cell_type": "code",
   "execution_count": 15,
   "metadata": {},
   "outputs": [
    {
     "name": "stderr",
     "output_type": "stream",
     "text": [
      "\u001b[1minput_line_36:13:3: \u001b[0m\u001b[0;1;31merror: \u001b[0m\u001b[1munknown type name 'dump'\u001b[0m\n",
      "  dump(str);\n",
      "\u001b[0;1;32m  ^\n",
      "\u001b[0m\u001b[1minput_line_36:14:3: \u001b[0m\u001b[0;1;31merror: \u001b[0m\u001b[1munknown type name 'dump'\u001b[0m\n",
      "  dump(u8str);\n",
      "\u001b[0;1;32m  ^\n",
      "\u001b[0m"
     ]
    },
    {
     "ename": "Interpreter Error",
     "evalue": "",
     "output_type": "error",
     "traceback": [
      "Interpreter Error: "
     ]
    }
   ],
   "source": [
    "\n",
    "#include <stdio.h>\n",
    "\n",
    "template <typename T>\n",
    "void dump(const T& str)\n",
    "{\n",
    "  for (char ch : str) {\n",
    "    printf(\n",
    "      \"%.2x \",\n",
    "      static_cast<unsigned char>(ch));\n",
    "  }\n",
    "  putchar('\\n');\n",
    "}\n",
    "\n",
    "  char str[] = \"你好\";\n",
    "  char u8str[] = u8\"你好\";\n",
    "  dump(str);\n",
    "  dump(u8str);\n"
   ]
  },
  {
   "cell_type": "code",
   "execution_count": null,
   "metadata": {},
   "outputs": [],
   "source": []
  }
 ],
 "metadata": {
  "kernelspec": {
   "display_name": "C++17",
   "language": "C++17",
   "name": "xcpp17"
  },
  "language_info": {
   "codemirror_mode": "text/x-c++src",
   "file_extension": ".cpp",
   "mimetype": "text/x-c++src",
   "name": "c++",
   "version": "17"
  }
 },
 "nbformat": 4,
 "nbformat_minor": 4
}
